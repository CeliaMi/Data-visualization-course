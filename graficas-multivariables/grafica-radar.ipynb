{
 "cells": [
  {
   "cell_type": "markdown",
   "id": "f5486e71",
   "metadata": {},
   "source": [
    "# Gráfico de radar\n",
    "\n",
    "Es un gráfico que permite comparar más de dos variables numéricas de un mismo registro al mismo tiempo, todo en una sola visualización.\n",
    "\n",
    "¿Cómo lo consigue? A diferencia de los gráficos tradicionales con solo dos ejes, el gráfico de radar tiene tantos ejes como variables se quieran comparar. Estos ejes se disponen en forma radial, partiendo todos desde un mismo punto central.\n",
    "\n",
    "Cada variable se representa en uno de estos ejes, y al unir los valores se forma una figura similar a una telaraña.\n",
    "\n",
    "Este tipo de visualización es útil para identificar rápidamente fortalezas, debilidades o patrones en los datos, ya sea al analizar una sola observación o al comparar varias dentro del mismo gráfico.\n",
    "\n"
   ]
  }
 ],
 "metadata": {
  "language_info": {
   "name": "python"
  }
 },
 "nbformat": 4,
 "nbformat_minor": 5
}
