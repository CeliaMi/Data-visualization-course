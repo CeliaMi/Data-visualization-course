{
 "cells": [
  {
   "cell_type": "markdown",
   "id": "f5486e71",
   "metadata": {},
   "source": [
    "# Gráfico de radar\n",
    "\n",
    "Es un gráfico que permite comparar más de dos variables numéricas de un mismo registro al mismo tiempo, todo en una sola visualización.\n",
    "\n",
    "¿Cómo lo consigue? A diferencia de los gráficos tradicionales con solo dos ejes, el gráfico de radar tiene tantos ejes como variables se quieran comparar. Estos ejes se disponen en forma radial, partiendo todos desde un mismo punto central.\n",
    "\n",
    "Cada variable se representa en uno de estos ejes, y al unir los valores se forma una figura similar a una telaraña.\n",
    "\n",
    "Este tipo de visualización es útil para identificar rápidamente fortalezas, debilidades o patrones en los datos, ya sea al analizar una sola observación o al comparar varias dentro del mismo gráfico.\n",
    "\n"
   ]
  },
  {
   "cell_type": "code",
   "execution_count": 3,
   "id": "2db5babb",
   "metadata": {},
   "outputs": [
    {
     "data": {
      "text/html": [
       "<div>\n",
       "<style scoped>\n",
       "    .dataframe tbody tr th:only-of-type {\n",
       "        vertical-align: middle;\n",
       "    }\n",
       "\n",
       "    .dataframe tbody tr th {\n",
       "        vertical-align: top;\n",
       "    }\n",
       "\n",
       "    .dataframe thead th {\n",
       "        text-align: right;\n",
       "    }\n",
       "</style>\n",
       "<table border=\"1\" class=\"dataframe\">\n",
       "  <thead>\n",
       "    <tr style=\"text-align: right;\">\n",
       "      <th></th>\n",
       "      <th>Nombre</th>\n",
       "      <th>Comida</th>\n",
       "      <th>Variedad</th>\n",
       "      <th>Servicio</th>\n",
       "      <th>Ambiente</th>\n",
       "      <th>Precio</th>\n",
       "    </tr>\n",
       "  </thead>\n",
       "  <tbody>\n",
       "    <tr>\n",
       "      <th>0</th>\n",
       "      <td>Restaurante 1</td>\n",
       "      <td>4</td>\n",
       "      <td>4</td>\n",
       "      <td>5</td>\n",
       "      <td>4</td>\n",
       "      <td>3</td>\n",
       "    </tr>\n",
       "    <tr>\n",
       "      <th>1</th>\n",
       "      <td>Restaurante 2</td>\n",
       "      <td>5</td>\n",
       "      <td>5</td>\n",
       "      <td>4</td>\n",
       "      <td>5</td>\n",
       "      <td>2</td>\n",
       "    </tr>\n",
       "    <tr>\n",
       "      <th>2</th>\n",
       "      <td>Restaurante 3</td>\n",
       "      <td>3</td>\n",
       "      <td>4</td>\n",
       "      <td>5</td>\n",
       "      <td>3</td>\n",
       "      <td>5</td>\n",
       "    </tr>\n",
       "  </tbody>\n",
       "</table>\n",
       "</div>"
      ],
      "text/plain": [
       "          Nombre  Comida  Variedad  Servicio  Ambiente  Precio\n",
       "0  Restaurante 1       4         4         5         4       3\n",
       "1  Restaurante 2       5         5         4         5       2\n",
       "2  Restaurante 3       3         4         5         3       5"
      ]
     },
     "execution_count": 3,
     "metadata": {},
     "output_type": "execute_result"
    }
   ],
   "source": [
    "import pandas as pd\n",
    "\n",
    "restautant_df = pd.read_csv('../data/restaurantes.csv')\n",
    "restautant_df"
   ]
  },
  {
   "cell_type": "code",
   "execution_count": null,
   "id": "2323fc71",
   "metadata": {},
   "outputs": [],
   "source": [
    "import plotly.graph_objects as go\n",
    "\n",
    "categorias = [\"Comida\", \"Variedad\", \"Servicio\", \"Ambiente\", \"Precio\"]\n",
    "figure = go.Figure()\n",
    "figure.add_trace(go.Scatterpolar(r=restautant_df[0, 1:],\n",
    "                                 theta=categorias,\n",
    "                         ))"
   ]
  }
 ],
 "metadata": {
  "kernelspec": {
   "display_name": "Python 3",
   "language": "python",
   "name": "python3"
  },
  "language_info": {
   "codemirror_mode": {
    "name": "ipython",
    "version": 3
   },
   "file_extension": ".py",
   "mimetype": "text/x-python",
   "name": "python",
   "nbconvert_exporter": "python",
   "pygments_lexer": "ipython3",
   "version": "3.12.5"
  }
 },
 "nbformat": 4,
 "nbformat_minor": 5
}
