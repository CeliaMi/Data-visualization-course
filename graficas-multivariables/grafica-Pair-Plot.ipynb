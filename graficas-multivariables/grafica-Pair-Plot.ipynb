{
 "cells": [
  {
   "cell_type": "markdown",
   "id": "3828cb7e",
   "metadata": {},
   "source": [
    "# Pair Plot\n",
    "\n",
    "\n",
    "El **Pair Plot** es un gráfico que se utiliza para **visualizar la relación entre todas las variables numéricas** de un DataFrame. Genera una cuadrícula de gráficos donde cada variable se compara con las demás, creando una matriz de tamaño `n x n` si tienes `n` variables.\n",
    "\n",
    "Este tipo de gráfico es especialmente útil al inicio del análisis exploratorio de datos, ya que permite detectar correlaciones, distribuciones y posibles outliers de un solo vistazo.\n",
    "\n",
    "En caso de tener muchas variables (por ejemplo, más de 5 o 6), el gráfico puede volverse demasiado cargado. En esos casos, se recomienda seleccionar un subconjunto de variables relevantes para facilitar la interpretación.\n",
    "\n",
    "En resumen el Pair Plot es un multigráfico muy útil para cuando comienzas tu analisis exploratorio de datos.\n",
    "\n"
   ]
  },
  {
   "cell_type": "code",
   "execution_count": null,
   "id": "b9cc117e",
   "metadata": {},
   "outputs": [],
   "source": []
  }
 ],
 "metadata": {
  "language_info": {
   "name": "python"
  }
 },
 "nbformat": 4,
 "nbformat_minor": 5
}
